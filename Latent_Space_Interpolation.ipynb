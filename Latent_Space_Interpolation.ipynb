{
 "cells": [
  {
   "cell_type": "code",
   "execution_count": 2,
   "metadata": {},
   "outputs": [],
   "source": [
    "import torch\n",
    "import torch.nn as nn\n",
    "import torch.optim as optim\n",
    "import torchvision\n",
    "import torchvision.transforms as transforms\n",
    "from torch.utils.data import DataLoader\n",
    "import matplotlib.pyplot as plt\n",
    "import numpy as np\n",
    "from IPython.display import clear_output"
   ]
  },
  {
   "cell_type": "code",
   "execution_count": 3,
   "metadata": {},
   "outputs": [],
   "source": [
    "# Set random seed for reproducibility\n",
    "torch.manual_seed(42)\n",
    "\n",
    "# Hyperparameters\n",
    "latent_dim = 100\n",
    "hidden_dim = 256\n",
    "image_dim = 784\n",
    "batch_size = 64\n",
    "num_epochs = 100  # Increased epochs\n",
    "lr = 0.0002"
   ]
  },
  {
   "cell_type": "code",
   "execution_count": 4,
   "metadata": {},
   "outputs": [],
   "source": [
    "# Generator Network\n",
    "class Generator(nn.Module):\n",
    "    def __init__(self):\n",
    "        super(Generator, self).__init__()\n",
    "        self.model = nn.Sequential(\n",
    "            nn.Linear(latent_dim, hidden_dim),\n",
    "            nn.ReLU(),\n",
    "            nn.Linear(hidden_dim, hidden_dim),\n",
    "            nn.ReLU(),\n",
    "            nn.Linear(hidden_dim, image_dim),\n",
    "            nn.Tanh()\n",
    "        )\n",
    "    \n",
    "    def forward(self, z):\n",
    "        return self.model(z)\n",
    "\n",
    "# Discriminator Network\n",
    "class Discriminator(nn.Module):\n",
    "    def __init__(self):\n",
    "        super(Discriminator, self).__init__()\n",
    "        self.model = nn.Sequential(\n",
    "            nn.Linear(image_dim, hidden_dim),\n",
    "            nn.LeakyReLU(0.2),\n",
    "            nn.Linear(hidden_dim, hidden_dim),\n",
    "            nn.LeakyReLU(0.2),\n",
    "            nn.Linear(hidden_dim, 1),\n",
    "            nn.Sigmoid()\n",
    "        )\n",
    "    \n",
    "    def forward(self, x):\n",
    "        return self.model(x)"
   ]
  },
  {
   "cell_type": "code",
   "execution_count": 5,
   "metadata": {},
   "outputs": [],
   "source": [
    "# Function to generate and save sample images\n",
    "def save_samples(generator, fixed_noise, epoch, fig_size=(10, 10)):\n",
    "    with torch.no_grad():\n",
    "        fake_images = generator(fixed_noise)\n",
    "        fake_images = fake_images.view(-1, 28, 28)\n",
    "        \n",
    "        plt.figure(figsize=fig_size)\n",
    "        for i in range(16):\n",
    "            plt.subplot(4, 4, i+1)\n",
    "            plt.imshow(fake_images[i].cpu().numpy(), cmap='gray')\n",
    "            plt.axis('off')\n",
    "        plt.suptitle(f'Generated Images at Epoch {epoch}', fontsize=20)\n",
    "        plt.tight_layout()\n",
    "        return plt.gcf()\n",
    "\n",
    "# Load MNIST Dataset\n",
    "transform = transforms.Compose([\n",
    "    transforms.ToTensor(),\n",
    "    transforms.Normalize((0.5,), (0.5,))\n",
    "])\n",
    "\n",
    "mnist = torchvision.datasets.MNIST(root='./data', train=True, \n",
    "                                 transform=transform, download=True)\n",
    "dataloader = DataLoader(mnist, batch_size=batch_size, shuffle=True)"
   ]
  },
  {
   "cell_type": "code",
   "execution_count": 6,
   "metadata": {},
   "outputs": [],
   "source": [
    "# Initialize networks and optimizers\n",
    "device = torch.device(\"cuda\" if torch.cuda.is_available() else \"cpu\")\n",
    "generator = Generator().to(device)\n",
    "discriminator = Discriminator().to(device)\n",
    "g_optimizer = optim.Adam(generator.parameters(), lr=lr)\n",
    "d_optimizer = optim.Adam(discriminator.parameters(), lr=lr)\n",
    "criterion = nn.BCELoss()\n",
    "\n",
    "# Fixed noise for visualization\n",
    "fixed_noise = torch.randn(16, latent_dim,device=device)\n",
    "\n",
    "# Training loop with visualization\n",
    "d_losses = []\n",
    "g_losses = []\n",
    "evolution_images = []\n",
    "checkpoints = [1, 10, 25, 50, 75, 100]  # Epochs to visualize"
   ]
  },
  {
   "cell_type": "code",
   "execution_count": 9,
   "metadata": {},
   "outputs": [],
   "source": [
    "def train():\n",
    "    for epoch in range(num_epochs):\n",
    "        d_loss_epoch = 0\n",
    "        g_loss_epoch = 0\n",
    "        batch_count = 0\n",
    "        \n",
    "        for batch_idx, (real_images, _) in enumerate(dataloader):\n",
    "            batch_size = real_images.size(0)\n",
    "            real_images = real_images.view(batch_size, -1).to(device)\n",
    "            \n",
    "            # Train Discriminator\n",
    "            discriminator.zero_grad()\n",
    "            real_labels = torch.ones(batch_size, 1,device=device)\n",
    "            fake_labels = torch.zeros(batch_size, 1,device=device)\n",
    "            \n",
    "            outputs = discriminator(real_images)\n",
    "            d_loss_real = criterion(outputs, real_labels)\n",
    "            \n",
    "            z = torch.randn(batch_size, latent_dim,device=device)\n",
    "            fake_images = generator(z)\n",
    "            outputs = discriminator(fake_images.detach())\n",
    "            d_loss_fake = criterion(outputs, fake_labels)\n",
    "            \n",
    "            d_loss = d_loss_real + d_loss_fake\n",
    "            d_loss.backward()\n",
    "            d_optimizer.step()\n",
    "            \n",
    "            # Train Generator\n",
    "            generator.zero_grad()\n",
    "            outputs = discriminator(fake_images)\n",
    "            g_loss = criterion(outputs, real_labels)\n",
    "            g_loss.backward()\n",
    "            g_optimizer.step()\n",
    "            \n",
    "            d_loss_epoch += d_loss.item()\n",
    "            g_loss_epoch += g_loss.item()\n",
    "            batch_count += 1\n",
    "\n",
    "        d_losses.append(d_loss_epoch / batch_count)\n",
    "        g_losses.append(g_loss_epoch / batch_count)\n",
    "        \n",
    "        if epoch % 10 ==0:\n",
    "            print(f'Epoch [{epoch}/{num_epochs}], d_loss: {d_losses[-1]:.4f}, g_loss: {g_losses[-1]:.4f}')"
   ]
  },
  {
   "cell_type": "code",
   "execution_count": 10,
   "metadata": {},
   "outputs": [
    {
     "name": "stdout",
     "output_type": "stream",
     "text": [
      "Epoch [1/100], d_loss: 0.3526, g_loss: 3.9608\n",
      "Epoch [11/100], d_loss: 0.2786, g_loss: 4.8317\n",
      "Epoch [21/100], d_loss: 0.3880, g_loss: 3.8510\n",
      "Epoch [31/100], d_loss: 0.6333, g_loss: 2.5147\n",
      "Epoch [41/100], d_loss: 0.6987, g_loss: 2.1711\n",
      "Epoch [51/100], d_loss: 0.7696, g_loss: 2.0244\n",
      "Epoch [61/100], d_loss: 0.8117, g_loss: 1.8785\n",
      "Epoch [71/100], d_loss: 0.8643, g_loss: 1.7909\n",
      "Epoch [81/100], d_loss: 0.8949, g_loss: 1.6889\n",
      "Epoch [91/100], d_loss: 0.9197, g_loss: 1.6403\n"
     ]
    }
   ],
   "source": [
    "# Train the model\n",
    "train()"
   ]
  },
  {
   "cell_type": "code",
   "execution_count": 34,
   "metadata": {},
   "outputs": [
    {
     "data": {
      "image/png": "[encoded data removed]",
      "text/plain": [
       "<Figure size 1500x200 with 10 Axes>"
      ]
     },
     "metadata": {},
     "output_type": "display_data"
    }
   ],
   "source": [
    "# Function for linear interpolation between two latent vectors\n",
    "def interpolate_latent_space_gan(generator, start_z, end_z, num_steps=10):\n",
    "    z_interpolated = [start_z * (1 - t) + end_z * t for t in np.linspace(0, 1, num_steps)]\n",
    "    z_interpolated = torch.stack(z_interpolated).to(device)\n",
    "    with torch.no_grad():\n",
    "        generated_images = generator(z_interpolated).cpu()\n",
    "    return generated_images\n",
    "\n",
    "# Sample two random latent vectors from a normal distribution\n",
    "z_dim = latent_dim  # Assume this is the dimension of the GAN's latent space\n",
    "start_z = torch.randn(z_dim).to(device)\n",
    "end_z = torch.randn(z_dim).to(device)\n",
    "\n",
    "# Interpolate between the two vectors\n",
    "num_steps = 10  # Number of steps for interpolation\n",
    "generated_images = interpolate_latent_space_gan(generator, start_z, end_z, num_steps=num_steps)\n",
    "\n",
    "# Visualization of interpolated images\n",
    "fig, axes = plt.subplots(1, num_steps, figsize=(15, 2))\n",
    "for i in range(num_steps):\n",
    "    axes[i].imshow(generated_images[i].view(28, 28), cmap=\"gray\")  # For MNIST, the image size is 28x28\n",
    "    axes[i].axis(\"off\")\n",
    "plt.show()\n"
   ]
  }
 ],
 "metadata": {
  "kernelspec": {
   "display_name": ".MYENV",
   "language": "python",
   "name": "python3"
  },
  "language_info": {
   "codemirror_mode": {
    "name": "ipython",
    "version": 3
   },
   "file_extension": ".py",
   "mimetype": "text/x-python",
   "name": "python",
   "nbconvert_exporter": "python",
   "pygments_lexer": "ipython3",
   "version": "3.10.12"
  }
 },
 "nbformat": 4,
 "nbformat_minor": 2
}
